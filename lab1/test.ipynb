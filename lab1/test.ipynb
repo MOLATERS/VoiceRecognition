{
 "cells": [
  {
   "cell_type": "code",
   "execution_count": null,
   "metadata": {},
   "outputs": [],
   "source": [
    "from func import *\n",
    "\n",
    "filename = \"voice/2.wav\"\n",
    "with wave.open(filename, 'rb') as f:\n",
    "    flen = f.getnframes()\n",
    "    f.setpos(44)\n",
    "    signal = np.frombuffer(f.readframes(flen - 44), dtype=np.int16)\n",
    "result = []\n",
    "\n",
    "bit = 7\n",
    "for a in range(5,200,1):\n",
    "    encoded_signal, min_val = dpcm_encode(signal,a,bit)\n",
    "    decoded_signal = dpcm_decode(encoded_signal,a,bit,min_val)\n",
    "    snr = calculate_SNR(signal, decoded_signal)\n",
    "    snr2 = calculate_snr(signal, decoded_signal)\n",
    "    result.append((a,snr,snr2))\n",
    "    print(snr,snr2)\n",
    "\n",
    "print(result)"
   ]
  },
  {
   "cell_type": "code",
   "execution_count": null,
   "metadata": {},
   "outputs": [],
   "source": [
    "import matplotlib.pyplot as plt\n",
    "\n",
    "# 提取结果中的SNR值\n",
    "a_values = [x[0] for x in result]\n",
    "snr_values = [x[1] for x in result]\n",
    "snr2_values = [x[2] for x in result]\n",
    "\n",
    "# 绘制图形\n",
    "# plt.plot(a_values, snr_values, label='SNR')\n",
    "plt.plot(a_values, snr2_values, label='SNR2')\n",
    "plt.xlabel('Value of a')\n",
    "plt.ylabel('SNR')\n",
    "plt.title('SNR vs Value of a')\n",
    "plt.legend()\n",
    "plt.grid(True)\n",
    "plt.show()"
   ]
  },
  {
   "cell_type": "code",
   "execution_count": null,
   "metadata": {},
   "outputs": [],
   "source": [
    "bit = 3\n",
    "for a in range(5,200,1):\n",
    "    encoded_signal, min_val = dpcm_encode(signal,a,bit)\n",
    "    decoded_signal = dpcm_decode(encoded_signal,a,bit,min_val)\n",
    "    snr = calculate_SNR(signal, decoded_signal)\n",
    "    snr2 = calculate_snr(signal, decoded_signal)\n",
    "    result.append((a,snr,snr2))\n",
    "    print(snr,snr2)\n",
    "\n",
    "print(result)"
   ]
  }
 ],
 "metadata": {
  "kernelspec": {
   "display_name": "base",
   "language": "python",
   "name": "python3"
  },
  "language_info": {
   "codemirror_mode": {
    "name": "ipython",
    "version": 3
   },
   "file_extension": ".py",
   "mimetype": "text/x-python",
   "name": "python",
   "nbconvert_exporter": "python",
   "pygments_lexer": "ipython3",
   "version": "3.11.5"
  }
 },
 "nbformat": 4,
 "nbformat_minor": 2
}
